{
  "cells": [
    {
      "cell_type": "markdown",
      "metadata": {
        "id": "view-in-github",
        "colab_type": "text"
      },
      "source": [
        "<a href=\"https://colab.research.google.com/github/Akhil-2003/Internship/blob/main/Internship_task1.ipynb\" target=\"_parent\"><img src=\"https://colab.research.google.com/assets/colab-badge.svg\" alt=\"Open In Colab\"/></a>"
      ]
    },
    {
      "cell_type": "markdown",
      "metadata": {
        "id": "decz7xfv1dmi"
      },
      "source": [
        "\n",
        "# **Stock Market Prediction using LSTM**\n",
        "\n",
        "---\n",
        "\n",
        "\n"
      ]
    },
    {
      "cell_type": "code",
      "execution_count": null,
      "metadata": {
        "id": "uevCPokV1qjv"
      },
      "outputs": [],
      "source": [
        "import numpy as np\n",
        "import pandas as pd\n",
        "import tensorflow as tf\n",
        "import matplotlib.pyplot as plt\n",
        "import sklearn\n",
        "from sklearn.preprocessing import MinMaxScaler\n",
        "import matplotlib.pyplot as plt"
      ]
    },
    {
      "cell_type": "code",
      "execution_count": null,
      "metadata": {
        "id": "tJY7kDGH11Xo"
      },
      "outputs": [],
      "source": [
        "data = pd.read_csv('NSE-TATAGLOBAL.csv')"
      ]
    },
    {
      "cell_type": "code",
      "execution_count": null,
      "metadata": {
        "id": "weucnl6X2GGn"
      },
      "outputs": [],
      "source": [
        "training_set = data.iloc[:, 1: 2].values"
      ]
    },
    {
      "cell_type": "code",
      "execution_count": null,
      "metadata": {
        "colab": {
          "base_uri": "https://localhost:8080/"
        },
        "id": "YZYA9DuW2ILV",
        "outputId": "036975b4-ae9f-46ba-b413-14f352b9e442"
      },
      "outputs": [
        {
          "name": "stdout",
          "output_type": "stream",
          "text": [
            "[[234.05]\n",
            " [234.55]\n",
            " [240.  ]\n",
            " ...\n",
            " [121.8 ]\n",
            " [120.3 ]\n",
            " [122.1 ]]\n"
          ]
        }
      ],
      "source": [
        "print(training_set)"
      ]
    },
    {
      "cell_type": "code",
      "execution_count": null,
      "metadata": {
        "colab": {
          "base_uri": "https://localhost:8080/",
          "height": 206
        },
        "id": "vAyKzV7l2Kxl",
        "outputId": "fab978b4-2de1-4288-ed66-41ddde11bc5b"
      },
      "outputs": [
        {
          "data": {
            "text/html": [
              "\n",
              "  <div id=\"df-6bfa33ea-4843-49b3-9352-90623f84338e\">\n",
              "    <div class=\"colab-df-container\">\n",
              "      <div>\n",
              "<style scoped>\n",
              "    .dataframe tbody tr th:only-of-type {\n",
              "        vertical-align: middle;\n",
              "    }\n",
              "\n",
              "    .dataframe tbody tr th {\n",
              "        vertical-align: top;\n",
              "    }\n",
              "\n",
              "    .dataframe thead th {\n",
              "        text-align: right;\n",
              "    }\n",
              "</style>\n",
              "<table border=\"1\" class=\"dataframe\">\n",
              "  <thead>\n",
              "    <tr style=\"text-align: right;\">\n",
              "      <th></th>\n",
              "      <th>Date</th>\n",
              "      <th>Open</th>\n",
              "      <th>High</th>\n",
              "      <th>Low</th>\n",
              "      <th>Last</th>\n",
              "      <th>Close</th>\n",
              "      <th>Total Trade Quantity</th>\n",
              "      <th>Turnover (Lacs)</th>\n",
              "    </tr>\n",
              "  </thead>\n",
              "  <tbody>\n",
              "    <tr>\n",
              "      <th>0</th>\n",
              "      <td>2018-09-28</td>\n",
              "      <td>234.05</td>\n",
              "      <td>235.95</td>\n",
              "      <td>230.20</td>\n",
              "      <td>233.50</td>\n",
              "      <td>233.75</td>\n",
              "      <td>3069914</td>\n",
              "      <td>7162.35</td>\n",
              "    </tr>\n",
              "    <tr>\n",
              "      <th>1</th>\n",
              "      <td>2018-09-27</td>\n",
              "      <td>234.55</td>\n",
              "      <td>236.80</td>\n",
              "      <td>231.10</td>\n",
              "      <td>233.80</td>\n",
              "      <td>233.25</td>\n",
              "      <td>5082859</td>\n",
              "      <td>11859.95</td>\n",
              "    </tr>\n",
              "    <tr>\n",
              "      <th>2</th>\n",
              "      <td>2018-09-26</td>\n",
              "      <td>240.00</td>\n",
              "      <td>240.00</td>\n",
              "      <td>232.50</td>\n",
              "      <td>235.00</td>\n",
              "      <td>234.25</td>\n",
              "      <td>2240909</td>\n",
              "      <td>5248.60</td>\n",
              "    </tr>\n",
              "    <tr>\n",
              "      <th>3</th>\n",
              "      <td>2018-09-25</td>\n",
              "      <td>233.30</td>\n",
              "      <td>236.75</td>\n",
              "      <td>232.00</td>\n",
              "      <td>236.25</td>\n",
              "      <td>236.10</td>\n",
              "      <td>2349368</td>\n",
              "      <td>5503.90</td>\n",
              "    </tr>\n",
              "    <tr>\n",
              "      <th>4</th>\n",
              "      <td>2018-09-24</td>\n",
              "      <td>233.55</td>\n",
              "      <td>239.20</td>\n",
              "      <td>230.75</td>\n",
              "      <td>234.00</td>\n",
              "      <td>233.30</td>\n",
              "      <td>3423509</td>\n",
              "      <td>7999.55</td>\n",
              "    </tr>\n",
              "  </tbody>\n",
              "</table>\n",
              "</div>\n",
              "      <button class=\"colab-df-convert\" onclick=\"convertToInteractive('df-6bfa33ea-4843-49b3-9352-90623f84338e')\"\n",
              "              title=\"Convert this dataframe to an interactive table.\"\n",
              "              style=\"display:none;\">\n",
              "        \n",
              "  <svg xmlns=\"http://www.w3.org/2000/svg\" height=\"24px\"viewBox=\"0 0 24 24\"\n",
              "       width=\"24px\">\n",
              "    <path d=\"M0 0h24v24H0V0z\" fill=\"none\"/>\n",
              "    <path d=\"M18.56 5.44l.94 2.06.94-2.06 2.06-.94-2.06-.94-.94-2.06-.94 2.06-2.06.94zm-11 1L8.5 8.5l.94-2.06 2.06-.94-2.06-.94L8.5 2.5l-.94 2.06-2.06.94zm10 10l.94 2.06.94-2.06 2.06-.94-2.06-.94-.94-2.06-.94 2.06-2.06.94z\"/><path d=\"M17.41 7.96l-1.37-1.37c-.4-.4-.92-.59-1.43-.59-.52 0-1.04.2-1.43.59L10.3 9.45l-7.72 7.72c-.78.78-.78 2.05 0 2.83L4 21.41c.39.39.9.59 1.41.59.51 0 1.02-.2 1.41-.59l7.78-7.78 2.81-2.81c.8-.78.8-2.07 0-2.86zM5.41 20L4 18.59l7.72-7.72 1.47 1.35L5.41 20z\"/>\n",
              "  </svg>\n",
              "      </button>\n",
              "      \n",
              "  <style>\n",
              "    .colab-df-container {\n",
              "      display:flex;\n",
              "      flex-wrap:wrap;\n",
              "      gap: 12px;\n",
              "    }\n",
              "\n",
              "    .colab-df-convert {\n",
              "      background-color: #E8F0FE;\n",
              "      border: none;\n",
              "      border-radius: 50%;\n",
              "      cursor: pointer;\n",
              "      display: none;\n",
              "      fill: #1967D2;\n",
              "      height: 32px;\n",
              "      padding: 0 0 0 0;\n",
              "      width: 32px;\n",
              "    }\n",
              "\n",
              "    .colab-df-convert:hover {\n",
              "      background-color: #E2EBFA;\n",
              "      box-shadow: 0px 1px 2px rgba(60, 64, 67, 0.3), 0px 1px 3px 1px rgba(60, 64, 67, 0.15);\n",
              "      fill: #174EA6;\n",
              "    }\n",
              "\n",
              "    [theme=dark] .colab-df-convert {\n",
              "      background-color: #3B4455;\n",
              "      fill: #D2E3FC;\n",
              "    }\n",
              "\n",
              "    [theme=dark] .colab-df-convert:hover {\n",
              "      background-color: #434B5C;\n",
              "      box-shadow: 0px 1px 3px 1px rgba(0, 0, 0, 0.15);\n",
              "      filter: drop-shadow(0px 1px 2px rgba(0, 0, 0, 0.3));\n",
              "      fill: #FFFFFF;\n",
              "    }\n",
              "  </style>\n",
              "\n",
              "      <script>\n",
              "        const buttonEl =\n",
              "          document.querySelector('#df-6bfa33ea-4843-49b3-9352-90623f84338e button.colab-df-convert');\n",
              "        buttonEl.style.display =\n",
              "          google.colab.kernel.accessAllowed ? 'block' : 'none';\n",
              "\n",
              "        async function convertToInteractive(key) {\n",
              "          const element = document.querySelector('#df-6bfa33ea-4843-49b3-9352-90623f84338e');\n",
              "          const dataTable =\n",
              "            await google.colab.kernel.invokeFunction('convertToInteractive',\n",
              "                                                     [key], {});\n",
              "          if (!dataTable) return;\n",
              "\n",
              "          const docLinkHtml = 'Like what you see? Visit the ' +\n",
              "            '<a target=\"_blank\" href=https://colab.research.google.com/notebooks/data_table.ipynb>data table notebook</a>'\n",
              "            + ' to learn more about interactive tables.';\n",
              "          element.innerHTML = '';\n",
              "          dataTable['output_type'] = 'display_data';\n",
              "          await google.colab.output.renderOutput(dataTable, element);\n",
              "          const docLink = document.createElement('div');\n",
              "          docLink.innerHTML = docLinkHtml;\n",
              "          element.appendChild(docLink);\n",
              "        }\n",
              "      </script>\n",
              "    </div>\n",
              "  </div>\n",
              "  "
            ],
            "text/plain": [
              "         Date    Open    High     Low    Last   Close  Total Trade Quantity  \\\n",
              "0  2018-09-28  234.05  235.95  230.20  233.50  233.75               3069914   \n",
              "1  2018-09-27  234.55  236.80  231.10  233.80  233.25               5082859   \n",
              "2  2018-09-26  240.00  240.00  232.50  235.00  234.25               2240909   \n",
              "3  2018-09-25  233.30  236.75  232.00  236.25  236.10               2349368   \n",
              "4  2018-09-24  233.55  239.20  230.75  234.00  233.30               3423509   \n",
              "\n",
              "   Turnover (Lacs)  \n",
              "0          7162.35  \n",
              "1         11859.95  \n",
              "2          5248.60  \n",
              "3          5503.90  \n",
              "4          7999.55  "
            ]
          },
          "execution_count": 5,
          "metadata": {},
          "output_type": "execute_result"
        }
      ],
      "source": [
        "data.head(5)"
      ]
    },
    {
      "cell_type": "code",
      "execution_count": null,
      "metadata": {
        "colab": {
          "base_uri": "https://localhost:8080/"
        },
        "id": "c89l5VS42M8l",
        "outputId": "affa92e0-8ccd-487a-9cd7-c99986eb8867"
      },
      "outputs": [
        {
          "data": {
            "text/plain": [
              "array([[234.05],\n",
              "       [234.55],\n",
              "       [240.  ],\n",
              "       ...,\n",
              "       [121.8 ],\n",
              "       [120.3 ],\n",
              "       [122.1 ]])"
            ]
          },
          "execution_count": 6,
          "metadata": {},
          "output_type": "execute_result"
        }
      ],
      "source": [
        "training_set"
      ]
    },
    {
      "cell_type": "code",
      "execution_count": null,
      "metadata": {
        "id": "fegXW1AN2Qrk"
      },
      "outputs": [],
      "source": [
        "sc = MinMaxScaler(feature_range = (0, 1))\n",
        "training_set_scaled = sc.fit_transform(training_set)"
      ]
    },
    {
      "cell_type": "code",
      "execution_count": null,
      "metadata": {
        "id": "3wcy9xpq2VVy"
      },
      "outputs": [],
      "source": [
        "x_train = []\n",
        "y_train = []\n",
        "for i in range(60, 2035):\n",
        "    x_train.append(training_set_scaled[i - 60: i, 0])\n",
        "    y_train.append(training_set_scaled[i, 0])\n",
        "x_train, y_train = np.array(x_train), np.array(y_train)\n",
        "\n",
        "x_train = np.reshape(x_train, (x_train.shape[0], x_train.shape[1], 1))"
      ]
    },
    {
      "cell_type": "code",
      "execution_count": null,
      "metadata": {
        "id": "pXdHn0YY2Y8y"
      },
      "outputs": [],
      "source": [
        "from keras.models import Sequential\n",
        "from keras.layers import Dense\n",
        "from keras.layers import LSTM\n",
        "from keras.layers import Dropout"
      ]
    },
    {
      "cell_type": "code",
      "execution_count": null,
      "metadata": {
        "colab": {
          "base_uri": "https://localhost:8080/"
        },
        "id": "t_j0wu-s2dDp",
        "outputId": "56619b11-3bda-4ea7-c0cf-d73b609b3f79"
      },
      "outputs": [
        {
          "output_type": "stream",
          "name": "stdout",
          "text": [
            "Epoch 1/50\n",
            "62/62 [==============================] - 21s 135ms/step - loss: 0.0091\n",
            "Epoch 2/50\n",
            "62/62 [==============================] - 9s 139ms/step - loss: 0.0033\n",
            "Epoch 3/50\n",
            "62/62 [==============================] - 9s 150ms/step - loss: 0.0027\n",
            "Epoch 4/50\n",
            "62/62 [==============================] - 9s 148ms/step - loss: 0.0029\n",
            "Epoch 5/50\n",
            "62/62 [==============================] - 8s 131ms/step - loss: 0.0025\n",
            "Epoch 6/50\n",
            "62/62 [==============================] - 9s 149ms/step - loss: 0.0026\n",
            "Epoch 7/50\n",
            "62/62 [==============================] - 9s 149ms/step - loss: 0.0027\n",
            "Epoch 8/50\n",
            "62/62 [==============================] - 10s 154ms/step - loss: 0.0021\n",
            "Epoch 9/50\n",
            "62/62 [==============================] - 9s 147ms/step - loss: 0.0022\n",
            "Epoch 10/50\n",
            "62/62 [==============================] - 9s 149ms/step - loss: 0.0018\n",
            "Epoch 11/50\n",
            "62/62 [==============================] - 8s 128ms/step - loss: 0.0019\n",
            "Epoch 12/50\n",
            "62/62 [==============================] - 9s 144ms/step - loss: 0.0020\n",
            "Epoch 13/50\n",
            "62/62 [==============================] - 9s 148ms/step - loss: 0.0017\n",
            "Epoch 14/50\n",
            "62/62 [==============================] - 8s 130ms/step - loss: 0.0018\n",
            "Epoch 15/50\n",
            "62/62 [==============================] - 9s 144ms/step - loss: 0.0020\n",
            "Epoch 16/50\n",
            "62/62 [==============================] - 10s 169ms/step - loss: 0.0016\n",
            "Epoch 17/50\n",
            "62/62 [==============================] - 9s 140ms/step - loss: 0.0015\n",
            "Epoch 18/50\n",
            "62/62 [==============================] - 9s 137ms/step - loss: 0.0016\n",
            "Epoch 19/50\n",
            "62/62 [==============================] - 9s 150ms/step - loss: 0.0014\n",
            "Epoch 20/50\n",
            "62/62 [==============================] - 9s 145ms/step - loss: 0.0014\n",
            "Epoch 21/50\n",
            "62/62 [==============================] - 8s 132ms/step - loss: 0.0015\n",
            "Epoch 22/50\n",
            "62/62 [==============================] - 9s 149ms/step - loss: 0.0015\n",
            "Epoch 23/50\n",
            "62/62 [==============================] - 9s 151ms/step - loss: 0.0014\n",
            "Epoch 24/50\n",
            "62/62 [==============================] - 8s 129ms/step - loss: 0.0013\n",
            "Epoch 25/50\n",
            "62/62 [==============================] - 9s 149ms/step - loss: 0.0012\n",
            "Epoch 26/50\n",
            "62/62 [==============================] - 9s 149ms/step - loss: 0.0013\n",
            "Epoch 27/50\n",
            "62/62 [==============================] - 8s 127ms/step - loss: 0.0011\n",
            "Epoch 28/50\n",
            "62/62 [==============================] - 9s 149ms/step - loss: 0.0012\n",
            "Epoch 29/50\n",
            "62/62 [==============================] - 9s 149ms/step - loss: 0.0011\n",
            "Epoch 30/50\n",
            "62/62 [==============================] - 8s 128ms/step - loss: 0.0013\n",
            "Epoch 31/50\n",
            "62/62 [==============================] - 9s 150ms/step - loss: 0.0012\n",
            "Epoch 32/50\n",
            "62/62 [==============================] - 9s 148ms/step - loss: 0.0013\n",
            "Epoch 33/50\n",
            "62/62 [==============================] - 8s 128ms/step - loss: 0.0011\n",
            "Epoch 34/50\n",
            "62/62 [==============================] - 9s 149ms/step - loss: 0.0011\n",
            "Epoch 35/50\n",
            "62/62 [==============================] - 9s 149ms/step - loss: 0.0010\n",
            "Epoch 36/50\n",
            "62/62 [==============================] - 8s 130ms/step - loss: 0.0011\n",
            "Epoch 37/50\n",
            "62/62 [==============================] - 9s 149ms/step - loss: 0.0010\n",
            "Epoch 38/50\n",
            "62/62 [==============================] - 9s 148ms/step - loss: 0.0012\n",
            "Epoch 39/50\n",
            "62/62 [==============================] - 8s 126ms/step - loss: 0.0012\n",
            "Epoch 40/50\n",
            "62/62 [==============================] - 9s 144ms/step - loss: 0.0010\n",
            "Epoch 41/50\n",
            "62/62 [==============================] - 9s 148ms/step - loss: 9.5985e-04\n",
            "Epoch 42/50\n",
            "62/62 [==============================] - 8s 132ms/step - loss: 9.1686e-04\n",
            "Epoch 43/50\n",
            "62/62 [==============================] - 9s 144ms/step - loss: 8.8596e-04\n",
            "Epoch 44/50\n",
            "62/62 [==============================] - 9s 150ms/step - loss: 9.2243e-04\n",
            "Epoch 45/50\n",
            "62/62 [==============================] - 9s 141ms/step - loss: 0.0010\n",
            "Epoch 46/50\n",
            "62/62 [==============================] - 9s 137ms/step - loss: 8.7428e-04\n",
            "Epoch 47/50\n",
            "62/62 [==============================] - 9s 151ms/step - loss: 9.5530e-04\n",
            "Epoch 48/50\n",
            "62/62 [==============================] - 9s 153ms/step - loss: 8.6243e-04\n",
            "Epoch 49/50\n",
            "62/62 [==============================] - 8s 130ms/step - loss: 8.7025e-04\n",
            "Epoch 50/50\n",
            "62/62 [==============================] - 9s 150ms/step - loss: 8.8702e-04\n"
          ]
        },
        {
          "output_type": "execute_result",
          "data": {
            "text/plain": [
              "<keras.callbacks.History at 0x7fc1454a1e70>"
            ]
          },
          "metadata": {},
          "execution_count": 35
        }
      ],
      "source": [
        "regressor = Sequential()\n",
        "regressor.add(LSTM(units = 50, return_sequences = True, input_shape = (x_train.shape[1], 1)))\n",
        "regressor.add(Dropout(0.2))\n",
        "\n",
        "regressor.add(LSTM(units = 50, return_sequences = True))\n",
        "regressor.add(Dropout(0.2))\n",
        "\n",
        "regressor.add(LSTM(units = 50, return_sequences = True))\n",
        "regressor.add(Dropout(0.2))\n",
        "\n",
        "regressor.add(LSTM(units = 50))\n",
        "regressor.add(Dropout(0.2))\n",
        "\n",
        "regressor.add(Dense(units = 1))\n",
        "\n",
        "regressor.compile(optimizer = 'adam', loss = 'mean_squared_error')\n",
        "\n",
        "regressor.fit(x_train, y_train, epochs = 50, batch_size = 32)"
      ]
    },
    {
      "cell_type": "code",
      "execution_count": null,
      "metadata": {
        "id": "DBKeIFfO6I8E"
      },
      "outputs": [],
      "source": [
        "data_test = pd.read_csv('Sample_Stock_test.csv')\n",
        "real_stock_price = data_test.iloc[:, 1:2].values"
      ]
    },
    {
      "cell_type": "code",
      "execution_count": null,
      "metadata": {
        "id": "K6xIwRm-6RQP"
      },
      "outputs": [],
      "source": [
        "data_total = pd.concat((data['High'], data_test['Open']), axis = 0)\n",
        "inputs = data_total[len(data_total) - len(data_test) - 60:].values\n",
        "inputs = inputs.reshape(-1, 1)\n",
        "inputs = sc.transform(inputs)"
      ]
    },
    {
      "cell_type": "code",
      "execution_count": null,
      "metadata": {
        "colab": {
          "base_uri": "https://localhost:8080/"
        },
        "id": "Vcj-WvaF6YZa",
        "outputId": "bc0717db-93d3-4cff-cbe2-b98bef5465a3"
      },
      "outputs": [
        {
          "output_type": "stream",
          "name": "stdout",
          "text": [
            "1/1 [==============================] - 2s 2s/step\n"
          ]
        }
      ],
      "source": [
        "x_test = []\n",
        "for i in range(60, 76):\n",
        "    x_test.append(inputs[i - 60:i, 0])\n",
        "x_test = np.array(x_test)\n",
        "x_test = np.reshape(x_test, (x_test.shape[0], x_test.shape[1], 1))\n",
        "predicted_stock_price = regressor.predict(x_test)\n",
        "predicted_stock_price = sc.inverse_transform(predicted_stock_price)"
      ]
    },
    {
      "cell_type": "code",
      "execution_count": null,
      "metadata": {
        "colab": {
          "base_uri": "https://localhost:8080/",
          "height": 472
        },
        "id": "9fS38-Kk6ckk",
        "outputId": "273a1059-a30c-463f-ad62-9e774dfdef53"
      },
      "outputs": [
        {
          "output_type": "display_data",
          "data": {
            "text/plain": [
              "<Figure size 640x480 with 1 Axes>"
            ],
            "image/png": "[encoded data removed]"
          },
          "metadata": {}
        }
      ],
      "source": [
        "plt.plot(real_stock_price, color = 'black', label = 'Tata Stock Price')\n",
        "plt.plot(predicted_stock_price, color = 'green', label = 'Predicted Tata Stock Price')\n",
        "plt.title('Tata Stock Price Prediction')\n",
        "plt.xlabel('Time')\n",
        "plt.ylabel = ('Tata Stock Price')\n",
        "plt.legend()\n",
        "plt.show()"
      ]
    }
  ],
  "metadata": {
    "colab": {
      "provenance": [],
      "authorship_tag": "ABX9TyPfeGW2FFbc/3faOsfzt+j4",
      "include_colab_link": true
    },
    "kernelspec": {
      "display_name": "Python 3",
      "name": "python3"
    },
    "language_info": {
      "name": "python"
    }
  },
  "nbformat": 4,
  "nbformat_minor": 0
}